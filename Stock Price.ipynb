{
 "cells": [
  {
   "cell_type": "code",
   "execution_count": 9,
   "metadata": {},
   "outputs": [],
   "source": [
    "import warnings\n",
    "warnings.filterwarnings('ignore')  # Hide warnings\n",
    "import datetime as dt\n",
    "import pandas as pd\n",
    "pd.core.common.is_list_like = pd.api.types.is_list_like\n",
    "import pandas_datareader.data as web\n",
    "import numpy as np\n",
    "import matplotlib.pyplot as plt\n",
    "import seaborn as sns\n",
    "%matplotlib inline\n",
    "\n",
    "from mpl_finance import candlestick_ohlc\n",
    "import matplotlib.dates as mdates"
   ]
  },
  {
   "cell_type": "code",
   "execution_count": 7,
   "metadata": {},
   "outputs": [],
   "source": [
    "#Getting stock price data\n",
    "\n",
    "start = dt.datetime(2020, 1, 1)\n",
    "end = dt.datetime.now()\n",
    "df = web.DataReader(\"AAPL\", 'yahoo', start, end)  # Collects data\n",
    "\n",
    "\n",
    "#prices in USD"
   ]
  },
  {
   "cell_type": "code",
   "execution_count": 8,
   "metadata": {},
   "outputs": [
    {
     "data": {
      "text/html": [
       "<div>\n",
       "<style scoped>\n",
       "    .dataframe tbody tr th:only-of-type {\n",
       "        vertical-align: middle;\n",
       "    }\n",
       "\n",
       "    .dataframe tbody tr th {\n",
       "        vertical-align: top;\n",
       "    }\n",
       "\n",
       "    .dataframe thead th {\n",
       "        text-align: right;\n",
       "    }\n",
       "</style>\n",
       "<table border=\"1\" class=\"dataframe\">\n",
       "  <thead>\n",
       "    <tr style=\"text-align: right;\">\n",
       "      <th></th>\n",
       "      <th>High</th>\n",
       "      <th>Low</th>\n",
       "      <th>Open</th>\n",
       "      <th>Close</th>\n",
       "      <th>Volume</th>\n",
       "      <th>Adj Close</th>\n",
       "    </tr>\n",
       "    <tr>\n",
       "      <th>Date</th>\n",
       "      <th></th>\n",
       "      <th></th>\n",
       "      <th></th>\n",
       "      <th></th>\n",
       "      <th></th>\n",
       "      <th></th>\n",
       "    </tr>\n",
       "  </thead>\n",
       "  <tbody>\n",
       "    <tr>\n",
       "      <th>2019-12-31</th>\n",
       "      <td>73.419998</td>\n",
       "      <td>72.379997</td>\n",
       "      <td>72.482498</td>\n",
       "      <td>73.412498</td>\n",
       "      <td>100805600.0</td>\n",
       "      <td>72.783936</td>\n",
       "    </tr>\n",
       "    <tr>\n",
       "      <th>2020-01-02</th>\n",
       "      <td>75.150002</td>\n",
       "      <td>73.797501</td>\n",
       "      <td>74.059998</td>\n",
       "      <td>75.087502</td>\n",
       "      <td>135480400.0</td>\n",
       "      <td>74.444603</td>\n",
       "    </tr>\n",
       "    <tr>\n",
       "      <th>2020-01-03</th>\n",
       "      <td>75.144997</td>\n",
       "      <td>74.125000</td>\n",
       "      <td>74.287498</td>\n",
       "      <td>74.357498</td>\n",
       "      <td>146322800.0</td>\n",
       "      <td>73.720840</td>\n",
       "    </tr>\n",
       "    <tr>\n",
       "      <th>2020-01-06</th>\n",
       "      <td>74.989998</td>\n",
       "      <td>73.187500</td>\n",
       "      <td>73.447502</td>\n",
       "      <td>74.949997</td>\n",
       "      <td>118387200.0</td>\n",
       "      <td>74.308266</td>\n",
       "    </tr>\n",
       "    <tr>\n",
       "      <th>2020-01-07</th>\n",
       "      <td>75.224998</td>\n",
       "      <td>74.370003</td>\n",
       "      <td>74.959999</td>\n",
       "      <td>74.597504</td>\n",
       "      <td>108872000.0</td>\n",
       "      <td>73.958794</td>\n",
       "    </tr>\n",
       "  </tbody>\n",
       "</table>\n",
       "</div>"
      ],
      "text/plain": [
       "                 High        Low       Open      Close       Volume  Adj Close\n",
       "Date                                                                          \n",
       "2019-12-31  73.419998  72.379997  72.482498  73.412498  100805600.0  72.783936\n",
       "2020-01-02  75.150002  73.797501  74.059998  75.087502  135480400.0  74.444603\n",
       "2020-01-03  75.144997  74.125000  74.287498  74.357498  146322800.0  73.720840\n",
       "2020-01-06  74.989998  73.187500  73.447502  74.949997  118387200.0  74.308266\n",
       "2020-01-07  75.224998  74.370003  74.959999  74.597504  108872000.0  73.958794"
      ]
     },
     "execution_count": 8,
     "metadata": {},
     "output_type": "execute_result"
    }
   ],
   "source": [
    "df.head()"
   ]
  },
  {
   "cell_type": "code",
   "execution_count": 10,
   "metadata": {},
   "outputs": [
    {
     "data": {
      "text/plain": [
       "[<matplotlib.lines.Line2D at 0x188652b3108>]"
      ]
     },
     "execution_count": 10,
     "metadata": {},
     "output_type": "execute_result"
    },
    {
     "data": {
      "image/png": "[encoded data removed]",
      "text/plain": [
       "<Figure size 432x288 with 1 Axes>"
      ]
     },
     "metadata": {
      "needs_background": "light"
     },
     "output_type": "display_data"
    }
   ],
   "source": [
    "plt.plot(df[\"High\"])"
   ]
  },
  {
   "cell_type": "code",
   "execution_count": 11,
   "metadata": {},
   "outputs": [
    {
     "data": {
      "text/plain": [
       "[<matplotlib.lines.Line2D at 0x188677192c8>]"
      ]
     },
     "execution_count": 11,
     "metadata": {},
     "output_type": "execute_result"
    },
    {
     "data": {
      "image/png": "[encoded data removed]",
      "text/plain": [
       "<Figure size 432x288 with 1 Axes>"
      ]
     },
     "metadata": {
      "needs_background": "light"
     },
     "output_type": "display_data"
    }
   ],
   "source": [
    "plt.plot(df[\"Low\"])"
   ]
  },
  {
   "cell_type": "code",
   "execution_count": 12,
   "metadata": {},
   "outputs": [
    {
     "data": {
      "text/plain": [
       "[<matplotlib.lines.Line2D at 0x188676a8148>]"
      ]
     },
     "execution_count": 12,
     "metadata": {},
     "output_type": "execute_result"
    },
    {
     "data": {
      "image/png": "[encoded data removed]",
      "text/plain": [
       "<Figure size 432x288 with 1 Axes>"
      ]
     },
     "metadata": {
      "needs_background": "light"
     },
     "output_type": "display_data"
    }
   ],
   "source": [
    "plt.plot(df[\"Volume\"])"
   ]
  },
  {
   "cell_type": "code",
   "execution_count": 13,
   "metadata": {},
   "outputs": [
    {
     "data": {
      "text/plain": [
       "[<matplotlib.lines.Line2D at 0x1886772cdc8>]"
      ]
     },
     "execution_count": 13,
     "metadata": {},
     "output_type": "execute_result"
    },
    {
     "data": {
      "image/png": "[encoded data removed]",
      "text/plain": [
       "<Figure size 432x288 with 1 Axes>"
      ]
     },
     "metadata": {
      "needs_background": "light"
     },
     "output_type": "display_data"
    }
   ],
   "source": [
    "plt.plot(df[\"Adj Close\"])"
   ]
  },
  {
   "cell_type": "code",
   "execution_count": 14,
   "metadata": {},
   "outputs": [],
   "source": [
    "df[\"HL_PCT\"]= ((df['High']- df[\"Low\"])/ df[\"Close\"])*100"
   ]
  },
  {
   "cell_type": "code",
   "execution_count": 15,
   "metadata": {},
   "outputs": [],
   "source": [
    "df[\"PCT_CNG\"]= ((df['Close']- df[\"Open\"])/ df[\"Open\"])*100"
   ]
  },
  {
   "cell_type": "code",
   "execution_count": 16,
   "metadata": {},
   "outputs": [
    {
     "data": {
      "text/html": [
       "<div>\n",
       "<style scoped>\n",
       "    .dataframe tbody tr th:only-of-type {\n",
       "        vertical-align: middle;\n",
       "    }\n",
       "\n",
       "    .dataframe tbody tr th {\n",
       "        vertical-align: top;\n",
       "    }\n",
       "\n",
       "    .dataframe thead th {\n",
       "        text-align: right;\n",
       "    }\n",
       "</style>\n",
       "<table border=\"1\" class=\"dataframe\">\n",
       "  <thead>\n",
       "    <tr style=\"text-align: right;\">\n",
       "      <th></th>\n",
       "      <th>High</th>\n",
       "      <th>Low</th>\n",
       "      <th>Open</th>\n",
       "      <th>Close</th>\n",
       "      <th>Volume</th>\n",
       "      <th>Adj Close</th>\n",
       "      <th>HL_PCT</th>\n",
       "      <th>PCT_CNG</th>\n",
       "    </tr>\n",
       "    <tr>\n",
       "      <th>Date</th>\n",
       "      <th></th>\n",
       "      <th></th>\n",
       "      <th></th>\n",
       "      <th></th>\n",
       "      <th></th>\n",
       "      <th></th>\n",
       "      <th></th>\n",
       "      <th></th>\n",
       "    </tr>\n",
       "  </thead>\n",
       "  <tbody>\n",
       "    <tr>\n",
       "      <th>2019-12-31</th>\n",
       "      <td>73.419998</td>\n",
       "      <td>72.379997</td>\n",
       "      <td>72.482498</td>\n",
       "      <td>73.412498</td>\n",
       "      <td>100805600.0</td>\n",
       "      <td>72.783936</td>\n",
       "      <td>1.416654</td>\n",
       "      <td>1.283069</td>\n",
       "    </tr>\n",
       "    <tr>\n",
       "      <th>2020-01-02</th>\n",
       "      <td>75.150002</td>\n",
       "      <td>73.797501</td>\n",
       "      <td>74.059998</td>\n",
       "      <td>75.087502</td>\n",
       "      <td>135480400.0</td>\n",
       "      <td>74.444603</td>\n",
       "      <td>1.801233</td>\n",
       "      <td>1.387394</td>\n",
       "    </tr>\n",
       "    <tr>\n",
       "      <th>2020-01-03</th>\n",
       "      <td>75.144997</td>\n",
       "      <td>74.125000</td>\n",
       "      <td>74.287498</td>\n",
       "      <td>74.357498</td>\n",
       "      <td>146322800.0</td>\n",
       "      <td>73.720840</td>\n",
       "      <td>1.371747</td>\n",
       "      <td>0.094228</td>\n",
       "    </tr>\n",
       "    <tr>\n",
       "      <th>2020-01-06</th>\n",
       "      <td>74.989998</td>\n",
       "      <td>73.187500</td>\n",
       "      <td>73.447502</td>\n",
       "      <td>74.949997</td>\n",
       "      <td>118387200.0</td>\n",
       "      <td>74.308266</td>\n",
       "      <td>2.404934</td>\n",
       "      <td>2.045672</td>\n",
       "    </tr>\n",
       "    <tr>\n",
       "      <th>2020-01-07</th>\n",
       "      <td>75.224998</td>\n",
       "      <td>74.370003</td>\n",
       "      <td>74.959999</td>\n",
       "      <td>74.597504</td>\n",
       "      <td>108872000.0</td>\n",
       "      <td>73.958794</td>\n",
       "      <td>1.146145</td>\n",
       "      <td>-0.483585</td>\n",
       "    </tr>\n",
       "  </tbody>\n",
       "</table>\n",
       "</div>"
      ],
      "text/plain": [
       "                 High        Low       Open      Close       Volume  \\\n",
       "Date                                                                  \n",
       "2019-12-31  73.419998  72.379997  72.482498  73.412498  100805600.0   \n",
       "2020-01-02  75.150002  73.797501  74.059998  75.087502  135480400.0   \n",
       "2020-01-03  75.144997  74.125000  74.287498  74.357498  146322800.0   \n",
       "2020-01-06  74.989998  73.187500  73.447502  74.949997  118387200.0   \n",
       "2020-01-07  75.224998  74.370003  74.959999  74.597504  108872000.0   \n",
       "\n",
       "            Adj Close    HL_PCT   PCT_CNG  \n",
       "Date                                       \n",
       "2019-12-31  72.783936  1.416654  1.283069  \n",
       "2020-01-02  74.444603  1.801233  1.387394  \n",
       "2020-01-03  73.720840  1.371747  0.094228  \n",
       "2020-01-06  74.308266  2.404934  2.045672  \n",
       "2020-01-07  73.958794  1.146145 -0.483585  "
      ]
     },
     "execution_count": 16,
     "metadata": {},
     "output_type": "execute_result"
    }
   ],
   "source": [
    "df.head()"
   ]
  },
  {
   "cell_type": "code",
   "execution_count": 17,
   "metadata": {},
   "outputs": [],
   "source": [
    "data= df[[\"Close\",\"Volume\",\"Adj Close\",\"HL_PCT\",\"PCT_CNG\"]]"
   ]
  },
  {
   "cell_type": "code",
   "execution_count": 18,
   "metadata": {},
   "outputs": [
    {
     "data": {
      "text/html": [
       "<div>\n",
       "<style scoped>\n",
       "    .dataframe tbody tr th:only-of-type {\n",
       "        vertical-align: middle;\n",
       "    }\n",
       "\n",
       "    .dataframe tbody tr th {\n",
       "        vertical-align: top;\n",
       "    }\n",
       "\n",
       "    .dataframe thead th {\n",
       "        text-align: right;\n",
       "    }\n",
       "</style>\n",
       "<table border=\"1\" class=\"dataframe\">\n",
       "  <thead>\n",
       "    <tr style=\"text-align: right;\">\n",
       "      <th></th>\n",
       "      <th>Close</th>\n",
       "      <th>Volume</th>\n",
       "      <th>Adj Close</th>\n",
       "      <th>HL_PCT</th>\n",
       "      <th>PCT_CNG</th>\n",
       "    </tr>\n",
       "    <tr>\n",
       "      <th>Date</th>\n",
       "      <th></th>\n",
       "      <th></th>\n",
       "      <th></th>\n",
       "      <th></th>\n",
       "      <th></th>\n",
       "    </tr>\n",
       "  </thead>\n",
       "  <tbody>\n",
       "    <tr>\n",
       "      <th>2019-12-31</th>\n",
       "      <td>73.412498</td>\n",
       "      <td>100805600.0</td>\n",
       "      <td>72.783936</td>\n",
       "      <td>1.416654</td>\n",
       "      <td>1.283069</td>\n",
       "    </tr>\n",
       "    <tr>\n",
       "      <th>2020-01-02</th>\n",
       "      <td>75.087502</td>\n",
       "      <td>135480400.0</td>\n",
       "      <td>74.444603</td>\n",
       "      <td>1.801233</td>\n",
       "      <td>1.387394</td>\n",
       "    </tr>\n",
       "    <tr>\n",
       "      <th>2020-01-03</th>\n",
       "      <td>74.357498</td>\n",
       "      <td>146322800.0</td>\n",
       "      <td>73.720840</td>\n",
       "      <td>1.371747</td>\n",
       "      <td>0.094228</td>\n",
       "    </tr>\n",
       "    <tr>\n",
       "      <th>2020-01-06</th>\n",
       "      <td>74.949997</td>\n",
       "      <td>118387200.0</td>\n",
       "      <td>74.308266</td>\n",
       "      <td>2.404934</td>\n",
       "      <td>2.045672</td>\n",
       "    </tr>\n",
       "    <tr>\n",
       "      <th>2020-01-07</th>\n",
       "      <td>74.597504</td>\n",
       "      <td>108872000.0</td>\n",
       "      <td>73.958794</td>\n",
       "      <td>1.146145</td>\n",
       "      <td>-0.483585</td>\n",
       "    </tr>\n",
       "  </tbody>\n",
       "</table>\n",
       "</div>"
      ],
      "text/plain": [
       "                Close       Volume  Adj Close    HL_PCT   PCT_CNG\n",
       "Date                                                             \n",
       "2019-12-31  73.412498  100805600.0  72.783936  1.416654  1.283069\n",
       "2020-01-02  75.087502  135480400.0  74.444603  1.801233  1.387394\n",
       "2020-01-03  74.357498  146322800.0  73.720840  1.371747  0.094228\n",
       "2020-01-06  74.949997  118387200.0  74.308266  2.404934  2.045672\n",
       "2020-01-07  74.597504  108872000.0  73.958794  1.146145 -0.483585"
      ]
     },
     "execution_count": 18,
     "metadata": {},
     "output_type": "execute_result"
    }
   ],
   "source": [
    "data.head()"
   ]
  },
  {
   "cell_type": "code",
   "execution_count": 19,
   "metadata": {},
   "outputs": [],
   "source": [
    "X=data.drop(\"Close\", axis=1).values"
   ]
  },
  {
   "cell_type": "code",
   "execution_count": 20,
   "metadata": {},
   "outputs": [],
   "source": [
    "y=data[\"Close\"].values"
   ]
  },
  {
   "cell_type": "code",
   "execution_count": 21,
   "metadata": {},
   "outputs": [
    {
     "data": {
      "text/plain": [
       "array([[ 1.00805600e+08,  7.27839355e+01,  1.41665375e+00,\n",
       "         1.28306878e+00],\n",
       "       [ 1.35480400e+08,  7.44446030e+01,  1.80123308e+00,\n",
       "         1.38739401e+00],\n",
       "       [ 1.46322800e+08,  7.37208405e+01,  1.37174686e+00,\n",
       "         9.42280953e-02],\n",
       "       ...,\n",
       "       [ 1.09578200e+08,  1.30919998e+02,  2.87962445e+00,\n",
       "         1.99438886e+00],\n",
       "       [ 1.04965400e+08,  1.32050003e+02,  1.81750026e+00,\n",
       "        -2.86936227e-01],\n",
       "       [ 4.91643550e+07,  1.29717194e+02,  1.28741466e+00,\n",
       "         4.08074272e-01]])"
      ]
     },
     "execution_count": 21,
     "metadata": {},
     "output_type": "execute_result"
    }
   ],
   "source": [
    "X"
   ]
  },
  {
   "cell_type": "code",
   "execution_count": 22,
   "metadata": {},
   "outputs": [
    {
     "data": {
      "text/plain": [
       "array([ 73.41249847,  75.08750153,  74.35749817,  74.94999695,\n",
       "        74.59750366,  75.79750061,  77.40750122,  77.58249664,\n",
       "        79.23999786,  78.16999817,  77.83499908,  78.80999756,\n",
       "        79.68250275,  79.14250183,  79.42500305,  79.80750275,\n",
       "        79.57749939,  77.23750305,  79.42250061,  81.08499908,\n",
       "        80.96749878,  77.37750244,  77.16500092,  79.71250153,\n",
       "        80.36250305,  81.30249786,  80.00749969,  80.38749695,\n",
       "        79.90249634,  81.80000305,  81.21749878,  81.23750305,\n",
       "        79.75      ,  80.90499878,  80.07499695,  78.26249695,\n",
       "        74.54499817,  72.01999664,  73.16249847,  68.37999725,\n",
       "        68.33999634,  74.70249939,  72.33000183,  75.68499756,\n",
       "        73.23000336,  72.25749969,  66.54250336,  71.33499908,\n",
       "        68.85749817,  62.05749893,  69.49250031,  60.55250168,\n",
       "        63.21500015,  61.66749954,  61.19499969,  57.31000137,\n",
       "        56.09249878,  61.72000122,  61.38000107,  64.61000061,\n",
       "        61.93500137,  63.70249939,  63.57249832,  60.22750092,\n",
       "        61.23249817,  60.35250092,  65.61750031,  64.85749817,\n",
       "        66.51750183,  66.99749756,  68.3125    ,  71.76249695,\n",
       "        71.10749817,  71.67250061,  70.69999695,  69.23249817,\n",
       "        67.09249878,  69.02500153,  68.75749969,  70.74250031,\n",
       "        70.79250336,  69.64499664,  71.93250275,  73.44999695,\n",
       "        72.26750183,  73.29000092,  74.38999939,  75.15750122,\n",
       "        75.93499756,  77.53250122,  78.75250244,  77.85250092,\n",
       "        76.91249847,  77.38500214,  76.92749786,  78.73999786,\n",
       "        78.28500366,  79.80750275,  79.21250153,  79.72250366,\n",
       "        79.18250275,  79.52749634,  79.5625    ,  79.48500061,\n",
       "        80.46250153,  80.83499908,  81.27999878,  80.58000183,\n",
       "        82.875     ,  83.36499786,  85.99749756,  88.20999908,\n",
       "        83.97499847,  84.69999695,  85.74749756,  88.01999664,\n",
       "        87.89749908,  87.93250275,  87.43000031,  89.71749878,\n",
       "        91.63249969,  90.01499939,  91.20999908,  88.40750122,\n",
       "        90.44499969,  91.19999695,  91.02749634,  91.02749634,\n",
       "        93.46250153,  93.17250061,  95.34249878,  95.75250244,\n",
       "        95.91999817,  95.47750092,  97.05750275,  97.72499847,\n",
       "        96.52249908,  96.32749939,  98.35749817,  97.        ,\n",
       "        97.27249908,  92.84500122,  92.61499786,  94.80999756,\n",
       "        93.25250244,  95.04000092,  96.19000244, 106.26000214,\n",
       "       108.9375    , 109.66500092, 110.0625    , 113.90249634,\n",
       "       111.11250305, 112.72750092, 109.375     , 113.01000214,\n",
       "       115.01000214, 114.90750122, 114.60749817, 115.5625    ,\n",
       "       115.70749664, 118.27500153, 124.37000275, 125.85749817,\n",
       "       124.82499695, 126.52249908, 125.01000214, 124.80750275,\n",
       "       129.03999329, 134.17999268, 131.3999939 , 120.87999725,\n",
       "       120.95999908, 112.81999969, 117.31999969, 113.48999786,\n",
       "       112.        , 115.36000061, 115.54000092, 112.12999725,\n",
       "       110.33999634, 106.83999634, 110.08000183, 111.80999756,\n",
       "       107.12000275, 108.22000122, 112.27999878, 114.95999908,\n",
       "       114.08999634, 115.80999756, 116.79000092, 113.01999664,\n",
       "       116.5       , 113.16000366, 115.08000183, 114.97000122,\n",
       "       116.97000122, 124.40000153, 121.09999847, 121.19000244,\n",
       "       120.70999908, 119.01999664, 115.98000336, 117.51000214,\n",
       "       116.87000275, 115.75      , 115.04000092, 115.05000305,\n",
       "       116.59999847, 111.19999695, 115.31999969, 108.86000061,\n",
       "       108.76999664, 110.44000244, 114.94999695, 119.02999878,\n",
       "       118.69000244, 116.31999969, 115.97000122, 119.48999786,\n",
       "       119.20999908, 119.26000214, 120.30000305, 119.38999939,\n",
       "       118.02999878, 118.63999939, 117.33999634, 113.84999847,\n",
       "       115.16999817, 116.02999878, 116.58999634, 119.05000305,\n",
       "       122.72000122, 123.08000183, 122.94000244, 122.25      ,\n",
       "       123.75      , 124.37999725, 121.77999878, 123.23999786,\n",
       "       122.41000366, 121.77999878, 127.87999725, 127.80999756,\n",
       "       128.69999695, 126.66000366, 128.22999573, 131.88000488,\n",
       "       130.96000671, 131.97000122, 136.69000244, 134.86999512,\n",
       "       133.72000122, 132.69000244, 129.41000366, 131.00999451,\n",
       "       126.59999847, 130.91999817, 132.05000305, 129.7171936 ])"
      ]
     },
     "execution_count": 22,
     "metadata": {},
     "output_type": "execute_result"
    }
   ],
   "source": [
    "y"
   ]
  },
  {
   "cell_type": "code",
   "execution_count": 23,
   "metadata": {},
   "outputs": [],
   "source": [
    "#to split data into training and testing sets\n",
    "\n",
    "from sklearn.model_selection import train_test_split"
   ]
  },
  {
   "cell_type": "code",
   "execution_count": 24,
   "metadata": {},
   "outputs": [],
   "source": [
    "X_train, X_test, y_train, y_test = train_test_split( X, y, test_size=0.33, random_state=7)"
   ]
  },
  {
   "cell_type": "code",
   "execution_count": 25,
   "metadata": {},
   "outputs": [],
   "source": [
    "from sklearn.linear_model import LinearRegression\n"
   ]
  },
  {
   "cell_type": "code",
   "execution_count": 26,
   "metadata": {},
   "outputs": [],
   "source": [
    "reg = LinearRegression().fit(X_train, y_train)"
   ]
  },
  {
   "cell_type": "code",
   "execution_count": 27,
   "metadata": {},
   "outputs": [],
   "source": [
    "y_pred= reg.predict(X_test)"
   ]
  },
  {
   "cell_type": "code",
   "execution_count": 28,
   "metadata": {},
   "outputs": [],
   "source": [
    "from sklearn.metrics import mean_squared_error"
   ]
  },
  {
   "cell_type": "code",
   "execution_count": 29,
   "metadata": {},
   "outputs": [
    {
     "data": {
      "text/plain": [
       "0.013143474042966358"
      ]
     },
     "execution_count": 29,
     "metadata": {},
     "output_type": "execute_result"
    }
   ],
   "source": [
    "mean_squared_error(y_test, y_pred)\n"
   ]
  },
  {
   "cell_type": "code",
   "execution_count": null,
   "metadata": {},
   "outputs": [],
   "source": []
  }
 ],
 "metadata": {
  "kernelspec": {
   "display_name": "Python 3",
   "language": "python",
   "name": "python3"
  },
  "language_info": {
   "codemirror_mode": {
    "name": "ipython",
    "version": 3
   },
   "file_extension": ".py",
   "mimetype": "text/x-python",
   "name": "python",
   "nbconvert_exporter": "python",
   "pygments_lexer": "ipython3",
   "version": "3.8.3"
  }
 },
 "nbformat": 4,
 "nbformat_minor": 2
}
